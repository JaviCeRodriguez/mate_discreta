{
 "cells": [
  {
   "cell_type": "markdown",
   "metadata": {
    "id": "ISieyJAkOUKx"
   },
   "source": [
    "**Numpy es un modulo cuyos objetos pueden ser utilizados para representar matrices y vectores, y con ellos hacer las operaciones entre matrices y vectores que conocemos.**\n",
    "\n",
    "**Comenzamos importando este modulo como np.**"
   ]
  },
  {
   "cell_type": "code",
   "execution_count": 1,
   "metadata": {
    "id": "JahFsMc2N8Hr",
    "tags": []
   },
   "outputs": [],
   "source": [
    "import numpy as np"
   ]
  },
  {
   "cell_type": "markdown",
   "metadata": {
    "id": "G-hR8L8yPz2I"
   },
   "source": [
    "**Si v es un vector de longitud n, entonces en numpy se puede representar como,**\n",
    "\n",
    "**v = np.array([ v0 , v1 , v2 , v3 ,..., vn-2 , vn-1 ]).**\n",
    "\n",
    "\n",
    "\n",
    "\n",
    "\n",
    "**Si A es una matriz de nxn, entonces en numpy se puede representar como,**\n",
    "\n",
    "**A = np.array([ [A00,A01,...,A0n-1] , [A10,A11,...,A1n-1] , [A20,A21,...,A2n-1] ,..., [An-10,An-11,...,An-1n-1] ]).**\n",
    "\n",
    "**Es decir, el primer corchete de A representa a la primera fila de A, el segundo corchete de A representa a la segunda fila de A, ....**"
   ]
  },
  {
   "cell_type": "markdown",
   "metadata": {
    "id": "fmSo5Cv6TV5b"
   },
   "source": [
    "**Supongamos que v  es de longitud 3 y A es de 3x3**"
   ]
  },
  {
   "cell_type": "code",
   "execution_count": 2,
   "metadata": {
    "colab": {
     "base_uri": "https://localhost:8080/"
    },
    "id": "IIiqi1m-QsgU",
    "outputId": "d8b3925a-dbaa-4f81-9013-b62a6c5c606b",
    "tags": []
   },
   "outputs": [
    {
     "name": "stdout",
     "output_type": "stream",
     "text": [
      "v = [3 4 1]\n",
      "\n",
      "A =\n",
      "[[ 4  5  1]\n",
      " [ 1  8  2]\n",
      " [ 8 10  2]]\n"
     ]
    }
   ],
   "source": [
    "v = np.array([3,4,1])\n",
    "\n",
    "A = np.array([[4,5,1],[1,8,2],[8,10,2]])\n",
    "\n",
    "print('v =',v)\n",
    "print('')\n",
    "print('A =')\n",
    "print(A)"
   ]
  },
  {
   "cell_type": "markdown",
   "metadata": {
    "id": "XhYn7_zEVHiH"
   },
   "source": [
    "**Con shape podemos ver la forma que tienen v y A**"
   ]
  },
  {
   "cell_type": "code",
   "execution_count": 3,
   "metadata": {
    "colab": {
     "base_uri": "https://localhost:8080/"
    },
    "id": "gAknuiviTslL",
    "outputId": "c71a5100-1b46-40f3-bf15-9bf64be0a2a1",
    "tags": []
   },
   "outputs": [
    {
     "name": "stdout",
     "output_type": "stream",
     "text": [
      "La forma de v es, (3,)\n",
      "\n",
      "La forma de A es, (3, 3)\n",
      "\n",
      "La forma de B es, (2, 3)\n",
      "\n",
      "La forma de C es, (3, 2)\n"
     ]
    }
   ],
   "source": [
    "print('La forma de v es,',v.shape)\n",
    "print('')\n",
    "print('La forma de A es,',A.shape)\n",
    "\n",
    "\n",
    "B = np.array([[4,5,1],[1,8,2]])\n",
    "\n",
    "print('')\n",
    "print('La forma de B es,',B.shape)\n",
    "\n",
    "C = np.array([[4,5],[1,2],[10,2]])\n",
    "print('')\n",
    "print('La forma de C es,',C.shape)"
   ]
  },
  {
   "cell_type": "markdown",
   "metadata": {
    "id": "sEPn1GZ5Fh-i"
   },
   "source": [
    "## **Antes de seguir hay que hacer una aclaracion muy importante**\n",
    "\n",
    "## **En python, y por lo tanto en numpy, los indices de un vector o una matriz comienzan a contarse desde el cero.**\n",
    "\n",
    "**Luego, el primer elemento del vector v seria v_primero = v[0]**\n",
    "\n",
    "**El segundo elemento del vector v seria v_segundo = v[1]**\n",
    "\n",
    ".\n",
    "\n",
    ".\n",
    "\n",
    "**Etc** \n",
    "\n",
    "**Observar que si v es de longitud n, entonces el numero que esta adentro del corchete (v[numero]) va desde 0 hasta n-1.**\n",
    "\n",
    "\n",
    "**Si quiero obtener el tercer elemento de la segunda fila de A:**\n",
    "\n",
    "**A_tercer_elemento_de_la_segunda_fila = A[1,2]**\n",
    "\n",
    "**A[j,k] j representa la fila y k representa a la columna.** \n",
    "\n",
    "**Si quiero obtener la tercera fila de A:**\n",
    "\n",
    "**A_tercera_fila = A[2,:]**\n",
    "\n",
    "**Si quiero obtener la cuarta columna de A:**\n",
    "\n",
    "**A_cuarta_columna = A[:,3]**\n"
   ]
  },
  {
   "cell_type": "code",
   "execution_count": 4,
   "metadata": {
    "colab": {
     "base_uri": "https://localhost:8080/"
    },
    "id": "aGtaxFM8Geau",
    "outputId": "dbf223c6-4bd1-4e66-8bd9-a4942881022b",
    "tags": []
   },
   "outputs": [
    {
     "name": "stdout",
     "output_type": "stream",
     "text": [
      "El segundo elemento de v es 4\n",
      "El tercer elemento de la segunda fila de A es 7.2\n",
      "La tercera fila de A es [ 8.2 10.   2. ]\n",
      "La primera columna de A es [4.6 1.4 8.2]\n"
     ]
    }
   ],
   "source": [
    "v = np.array([3,4,1])\n",
    "\n",
    "v_segundo = v[1]\n",
    "\n",
    "print('El segundo elemento de v es',v_segundo )\n",
    "\n",
    "\n",
    "A = np.array([[4.6,5,1],[1.4,8,7.2],[8.2,10,2]])\n",
    "\n",
    "A_tercer_elemento_de_la_segunda_fila = A[1,2]\n",
    "\n",
    "print('El tercer elemento de la segunda fila de A es', A_tercer_elemento_de_la_segunda_fila)\n",
    "\n",
    "\n",
    "A_tercera_fila = A[2,:]\n",
    "\n",
    "print('La tercera fila de A es', A_tercera_fila)\n",
    "\n",
    "A_primera_columna = A[:,0]\n",
    "\n",
    "print('La primera columna de A es', A_primera_columna)\n"
   ]
  },
  {
   "cell_type": "markdown",
   "metadata": {
    "id": "UDnWDsE7a3Rm"
   },
   "source": [
    "**Podemos crear vectores y matrices muy grandes y luego hacer operaciones algebraicas con ellos.**\n",
    "\n",
    "**Por ejemplo,**\n",
    " \n",
    "**A = numpy.ones((3,2)) es una matriz de 3x2 llena de unos**\n",
    "\n",
    "**A = numpy.zeros((200,300)) es una matriz de 200x300 llena de ceros.**"
   ]
  },
  {
   "cell_type": "code",
   "execution_count": 5,
   "metadata": {
    "colab": {
     "base_uri": "https://localhost:8080/"
    },
    "id": "Sd0csq0XbzOs",
    "outputId": "998d507e-da73-475c-9afc-37738c6c5a5e",
    "tags": []
   },
   "outputs": [
    {
     "name": "stdout",
     "output_type": "stream",
     "text": [
      "v = [1. 1. 1. 1. 1. 1. 1. 1. 1. 1. 1. 1. 1. 1. 1. 1. 1. 1. 1. 1.]\n",
      "\n",
      "A =\n",
      "[[1. 1.]\n",
      " [1. 1.]\n",
      " [1. 1.]]\n",
      "\n",
      "B =\n",
      "[[0. 0. 0. ... 0. 0. 0.]\n",
      " [0. 0. 0. ... 0. 0. 0.]\n",
      " [0. 0. 0. ... 0. 0. 0.]\n",
      " ...\n",
      " [0. 0. 0. ... 0. 0. 0.]\n",
      " [0. 0. 0. ... 0. 0. 0.]\n",
      " [0. 0. 0. ... 0. 0. 0.]]\n"
     ]
    }
   ],
   "source": [
    "v = np.ones(20)\n",
    "\n",
    "print('v =',v)\n",
    "print('')\n",
    "\n",
    "A = np.ones((3,2))\n",
    "\n",
    "print('A =')\n",
    "print(A)\n",
    "print('')\n",
    "\n",
    "B = np.zeros((30,40))\n",
    "\n",
    "print('B =')\n",
    "print(B)"
   ]
  },
  {
   "cell_type": "markdown",
   "metadata": {
    "id": "BCGKGFc6dqRm"
   },
   "source": [
    "**Tambien suele usarse v = np.linspace(b,c,N).**\n",
    "\n",
    "\n",
    "**En este caso v es un vector de N elementos cuyo elemento j es igual a,** \n",
    "\n",
    "**v[ j ] = b + (j/(N-1))*(c-b)**\n"
   ]
  },
  {
   "cell_type": "code",
   "execution_count": 6,
   "metadata": {
    "colab": {
     "base_uri": "https://localhost:8080/"
    },
    "id": "1CBI50madnV9",
    "outputId": "46d2a9b9-ac14-4ce7-d37d-4dfe9b27a03e",
    "tags": []
   },
   "outputs": [
    {
     "name": "stdout",
     "output_type": "stream",
     "text": [
      "v =  [-3.6        -0.88888889  1.82222222  4.53333333  7.24444444  9.95555556\n",
      " 12.66666667 15.37777778 18.08888889 20.8       ]\n",
      "\n",
      "u =  [ 0.  1.  2.  3.  4.  5.  6.  7.  8.  9. 10. 11. 12. 13. 14.]\n"
     ]
    }
   ],
   "source": [
    "v = np.linspace(-3.6,20.8,10)\n",
    "print('v = ', v)\n",
    "print('')\n",
    "\n",
    "u = np.linspace(0,14,15)\n",
    "print('u = ', u)"
   ]
  },
  {
   "cell_type": "markdown",
   "metadata": {
    "id": "UlJfMxc9UI_U"
   },
   "source": [
    "**Otro util es v = np.arange(b, c, dt)**\n",
    "\n",
    "**Que es un vector que va de b a c tomando saltos de tamaño dt.**"
   ]
  },
  {
   "cell_type": "code",
   "execution_count": 7,
   "metadata": {
    "colab": {
     "base_uri": "https://localhost:8080/"
    },
    "id": "-c305p7CUzhY",
    "outputId": "a5d0440a-08dd-4abf-dabe-e568cf61693b",
    "tags": []
   },
   "outputs": [
    {
     "name": "stdout",
     "output_type": "stream",
     "text": [
      "v =  [ 5.    5.15  5.3   5.45  5.6   5.75  5.9   6.05  6.2   6.35  6.5   6.65\n",
      "  6.8   6.95  7.1   7.25  7.4   7.55  7.7   7.85  8.    8.15  8.3   8.45\n",
      "  8.6   8.75  8.9   9.05  9.2   9.35  9.5   9.65  9.8   9.95 10.1  10.25\n",
      " 10.4  10.55 10.7  10.85 11.   11.15 11.3  11.45 11.6  11.75 11.9  12.05\n",
      " 12.2  12.35 12.5  12.65 12.8  12.95 13.1  13.25 13.4  13.55 13.7  13.85\n",
      " 14.   14.15 14.3  14.45 14.6  14.75 14.9  15.05 15.2  15.35 15.5  15.65\n",
      " 15.8  15.95 16.1  16.25 16.4  16.55 16.7  16.85 17.   17.15 17.3  17.45\n",
      " 17.6  17.75 17.9 ]\n",
      "\n"
     ]
    }
   ],
   "source": [
    "v = np.arange(5,18,0.15)\n",
    "print('v = ', v)\n",
    "print('')"
   ]
  },
  {
   "cell_type": "markdown",
   "metadata": {
    "id": "8beAzYRqfxgu"
   },
   "source": [
    "**Con np.reshape() se puede modificar la forma de un vector v o una matriz A.**"
   ]
  },
  {
   "cell_type": "code",
   "execution_count": 8,
   "metadata": {
    "colab": {
     "base_uri": "https://localhost:8080/"
    },
    "id": "GY2jQ99zgDTn",
    "outputId": "7b836eca-96ff-4ce1-f92f-3cf04221018e",
    "tags": []
   },
   "outputs": [
    {
     "name": "stdout",
     "output_type": "stream",
     "text": [
      "u = [ 0.  1.  2.  3.  4.  5.  6.  7.  8.  9. 10. 11. 12. 13. 14.]\n",
      "\n",
      "uu =\n",
      "[[ 0.  1.  2.  3.  4.]\n",
      " [ 5.  6.  7.  8.  9.]\n",
      " [10. 11. 12. 13. 14.]]\n",
      "\n",
      "La forma de uu es (3, 5)\n",
      "\n",
      "A =\n",
      "[[ 5 -6  3  5]\n",
      " [ 5 -1  9  2]\n",
      " [25 -6  1  7]\n",
      " [ 4 -5  7  8]]\n",
      "\n",
      "La forma de A es (4, 4)\n",
      "\n",
      "AA =\n",
      "[[ 5 -6  3  5  5 -1  9  2]\n",
      " [25 -6  1  7  4 -5  7  8]]\n",
      "\n",
      "La forma de AA es (2, 8)\n"
     ]
    }
   ],
   "source": [
    "u = np.linspace(0,14,15)\n",
    "\n",
    "print('u =',u)\n",
    "print('')\n",
    "\n",
    "uu = u.reshape(3,5)\n",
    "\n",
    "print('uu =')\n",
    "print(uu)\n",
    "\n",
    "print('')\n",
    "print('La forma de uu es',uu.shape)\n",
    "print('')\n",
    "\n",
    "A = np.array([[5,-6,3,5],[5,-1,9,2],[25,-6,1,7],[4,-5,7,8]])\n",
    "\n",
    "print('A =')\n",
    "print(A)\n",
    "\n",
    "print('')\n",
    "print('La forma de A es',A.shape)\n",
    "\n",
    "AA = A.reshape(2,8)\n",
    "\n",
    "print('')\n",
    "\n",
    "print('AA =')\n",
    "print(AA)\n",
    "\n",
    "print('')\n",
    "print('La forma de AA es',AA.shape)"
   ]
  },
  {
   "cell_type": "markdown",
   "metadata": {
    "id": "etIDWzqmiKeK"
   },
   "source": [
    "**Cada elemento de una matriz o de un vector puede redefinirse** \n",
    "\n",
    "**Por ejemplo:**"
   ]
  },
  {
   "cell_type": "code",
   "execution_count": 9,
   "metadata": {
    "colab": {
     "base_uri": "https://localhost:8080/"
    },
    "id": "t7___MP4ino4",
    "outputId": "a612aae6-01c0-43e1-9ea2-d0d09f2856ee",
    "tags": []
   },
   "outputs": [
    {
     "name": "stdout",
     "output_type": "stream",
     "text": [
      "A =\n",
      "[[ 5 -6  5]\n",
      " [ 5 -1  2]\n",
      " [-6  1  7]]\n",
      "\n",
      "A =\n",
      "[[  5  -6   5]\n",
      " [  5  -1   2]\n",
      " [ -6 555   7]]\n"
     ]
    }
   ],
   "source": [
    "A = np.array([[5,-6,5],[5,-1,2],[-6,1,7]])\n",
    "\n",
    "print('A =')\n",
    "print(A)\n",
    "print('')\n",
    "\n",
    "A[2,1] = 555 \n",
    "\n",
    "print('A =')\n",
    "print(A)"
   ]
  },
  {
   "cell_type": "markdown",
   "metadata": {
    "id": "2pm7fTl4jS3f"
   },
   "source": [
    "**Tambien se puede redefinir alguna columna o fila de nuestra matriz** \n",
    "\n",
    "**Por ejemplo:**"
   ]
  },
  {
   "cell_type": "code",
   "execution_count": 10,
   "metadata": {
    "colab": {
     "base_uri": "https://localhost:8080/"
    },
    "id": "6AGFxkb9jWpa",
    "outputId": "94c81d5b-3612-4912-e14a-6e5bd17fb6b8",
    "tags": []
   },
   "outputs": [
    {
     "name": "stdout",
     "output_type": "stream",
     "text": [
      "A =\n",
      "[[ 5 -6  5]\n",
      " [ 5 -1  2]\n",
      " [-6  1  7]]\n",
      "\n",
      "A =\n",
      "[[   5   -6    5]\n",
      " [-200 -300 -400]\n",
      " [  -6    1    7]]\n",
      "\n",
      "A =\n",
      "[[   5   -6 -200]\n",
      " [-200 -300 -300]\n",
      " [  -6    1 -400]]\n"
     ]
    }
   ],
   "source": [
    "A = np.array([[5,-6,5],[5,-1,2],[-6,1,7]])\n",
    "\n",
    "print('A =')\n",
    "print(A)\n",
    "print('')\n",
    "\n",
    "A[1,:] = np.array([-200,-300,-400]) \n",
    "\n",
    "print('A =')\n",
    "print(A)\n",
    "print('')\n",
    "\n",
    "A[:,2] = np.array([-200,-300,-400]) \n",
    "\n",
    "print('A =')\n",
    "print(A)"
   ]
  },
  {
   "cell_type": "markdown",
   "metadata": {
    "id": "ajHI8lbSjwNu"
   },
   "source": [
    "**Se puede usar el for para redefinir los elementos de una matriz gigante:**"
   ]
  },
  {
   "cell_type": "code",
   "execution_count": 11,
   "metadata": {
    "colab": {
     "base_uri": "https://localhost:8080/"
    },
    "id": "G7YC0uLzj4F9",
    "outputId": "fc9f9c65-907a-4951-96ea-dc32b9d9cbf5",
    "tags": []
   },
   "outputs": [
    {
     "name": "stdout",
     "output_type": "stream",
     "text": [
      "A =\n",
      "[[  1.           0.54030231  -0.41614684 ...  -0.60555186  -0.99682859\n",
      "   -0.47162571]\n",
      " [  1.           1.54030231   0.99806673 ...  13.43011698  13.07441868\n",
      "   13.63511027]\n",
      " [  1.           1.95451587   1.58385316 ...  19.24388138  18.90292015\n",
      "   19.47831163]\n",
      " ...\n",
      " [  1.          10.38916011  13.51224144 ... 137.62975477 137.58888495\n",
      "  138.463611  ]\n",
      " [  1.          10.43979724  13.58385316 ... 138.34048082 138.3014126\n",
      "  139.17793569]\n",
      " [  1.          10.49017668  13.65510044 ... 139.04758988 139.01031408\n",
      "  139.88862507]]\n"
     ]
    }
   ],
   "source": [
    "A = np.ones((100,200))\n",
    "\n",
    "for j in list(range(A.shape[0])):\n",
    "\n",
    "    for k in list(range(A.shape[1])):\n",
    "\n",
    "        A[j,k] = pow(j*k,0.5) + np.cos(k)\n",
    "\n",
    "print('A =')\n",
    "print(A)"
   ]
  },
  {
   "cell_type": "markdown",
   "metadata": {
    "id": "mtsQmQFyksT6"
   },
   "source": [
    "#**Hasta ahora vimos cosas mas relacionadas con la definicion de matrices y vectores. Algunas mastrices definidas resultaron se gigantes y seria interezante realizar operaciones con ellas.** \n",
    "\n",
    "#**Se imaginan calcular el determinante de una matriz de 1000x1000 a mano ?** "
   ]
  },
  {
   "cell_type": "markdown",
   "metadata": {
    "id": "VtzULTt7V2zg"
   },
   "source": [
    "**Hagamos operaciones algebraicas con dos vectores llamados v y u** "
   ]
  },
  {
   "cell_type": "code",
   "execution_count": 12,
   "metadata": {
    "id": "ytiNt9ZVXXfv",
    "tags": []
   },
   "outputs": [],
   "source": [
    "v = np.array([4,5,6])\n",
    "\n",
    "u = np.array([2,5,3])"
   ]
  },
  {
   "cell_type": "markdown",
   "metadata": {
    "id": "Q8WWbiEOW1Yj"
   },
   "source": [
    "**Si queremos multiplicar un vector por un ecalar,**"
   ]
  },
  {
   "cell_type": "code",
   "execution_count": 13,
   "metadata": {
    "colab": {
     "base_uri": "https://localhost:8080/"
    },
    "id": "60SjnR9XTVXP",
    "outputId": "3a54a2a2-d7ae-4c5e-eb51-509c4768ed77",
    "tags": []
   },
   "outputs": [
    {
     "name": "stdout",
     "output_type": "stream",
     "text": [
      "v_5 = [20 25 30]\n"
     ]
    }
   ],
   "source": [
    "v_5 = 5*v   # multiplico v por 5\n",
    "\n",
    "print('v_5 =',v_5)"
   ]
  },
  {
   "cell_type": "markdown",
   "metadata": {
    "id": "-zNkRUGXXlN4"
   },
   "source": [
    "**Si queremos sumar dos vectores o hacer una combinacion lineal entre ellos,**"
   ]
  },
  {
   "cell_type": "code",
   "execution_count": 14,
   "metadata": {
    "colab": {
     "base_uri": "https://localhost:8080/"
    },
    "id": "HkxOhGPRWVyP",
    "outputId": "a2fcefe6-e11e-402e-f6c7-f4752645c3af",
    "tags": []
   },
   "outputs": [
    {
     "name": "stdout",
     "output_type": "stream",
     "text": [
      "r = [ 6 10  9]\n",
      "\n",
      "z = [  0 -15   0]\n"
     ]
    }
   ],
   "source": [
    "r = v + u \n",
    "\n",
    "print('r =',r)\n",
    "print('')\n",
    "\n",
    "z = 3*v + (-6)*u \n",
    "z = 3*v-6*u\n",
    "\n",
    "print('z =',z)"
   ]
  },
  {
   "cell_type": "markdown",
   "metadata": {
    "id": "7cKHj8C_YaCn"
   },
   "source": [
    "**Si queremos hacer el producto interno entre dos vectores v y u, usamos np.dot(v,u),**"
   ]
  },
  {
   "cell_type": "code",
   "execution_count": 15,
   "metadata": {
    "colab": {
     "base_uri": "https://localhost:8080/"
    },
    "id": "zdaQz2fyYR5f",
    "outputId": "14d5ddb4-f079-4135-aa8c-a3790dcf01a3",
    "tags": []
   },
   "outputs": [
    {
     "name": "stdout",
     "output_type": "stream",
     "text": [
      "El producto interno entre v y u es, 51\n",
      "El producto interno entre u y v es, 51\n",
      "El producto interno entre v y -u es, -51\n"
     ]
    }
   ],
   "source": [
    "v = np.array([4,5,6])\n",
    "\n",
    "u = np.array([2,5,3])\n",
    "\n",
    "prod_int = np.dot(v,u) \n",
    "\n",
    "print('El producto interno entre v y u es,',prod_int)\n",
    "\n",
    "prod_int = np.dot(u,v) \n",
    "\n",
    "print('El producto interno entre u y v es,',prod_int)\n",
    "\n",
    "prod_int = np.dot(v,-1*u) \n",
    "\n",
    "print('El producto interno entre v y -u es,',prod_int)"
   ]
  },
  {
   "cell_type": "markdown",
   "metadata": {
    "id": "oCcbhnH5al8D"
   },
   "source": [
    "**La norma de un vector v se puede calcular con np.linalg.norm(v)**"
   ]
  },
  {
   "cell_type": "code",
   "execution_count": 16,
   "metadata": {
    "colab": {
     "base_uri": "https://localhost:8080/"
    },
    "id": "TfokklTebrQS",
    "outputId": "796f9608-2994-4dd4-a92b-ef8ee16e176f",
    "tags": []
   },
   "outputs": [
    {
     "name": "stdout",
     "output_type": "stream",
     "text": [
      "La norma de v es, 8.774964387392123\n",
      "\n",
      "v_normalizado = [0.45584231 0.56980288 0.68376346]\n",
      "\n",
      "El producto interno entre v_normalizado y v_normalizado es, 0.9999999999999999 = 1\n"
     ]
    }
   ],
   "source": [
    "v = np.array([4,5,6])\n",
    "\n",
    "norma_v = np.linalg.norm(v)\n",
    "\n",
    "print('La norma de v es,',norma_v)\n",
    "print('')\n",
    "\n",
    "# normalicemos a v,\n",
    "\n",
    "v_normalizado = v/norma_v\n",
    "\n",
    "print('v_normalizado =',v_normalizado)\n",
    "print('')\n",
    "\n",
    "# veamos que en efecto v_normalizado es v normalizado\n",
    "\n",
    "print('El producto interno entre v_normalizado y v_normalizado es,',np.dot(v_normalizado,v_normalizado),'= 1')\n",
    "\n",
    "\n"
   ]
  },
  {
   "cell_type": "markdown",
   "metadata": {
    "id": "3W9aUckBdkzC"
   },
   "source": [
    "**De la misma manera que se realizo el producto entre vectores, se puede realizar el producto entre dos matrices A y B.**\n",
    "\n",
    "**Por supuesto, la multiplicacion entre matrices es no conmutativa**"
   ]
  },
  {
   "cell_type": "code",
   "execution_count": 17,
   "metadata": {
    "colab": {
     "base_uri": "https://localhost:8080/"
    },
    "id": "VFejl11WdiiT",
    "outputId": "103e09b5-d6ed-4104-856a-f31ad2254c19",
    "tags": []
   },
   "outputs": [
    {
     "name": "stdout",
     "output_type": "stream",
     "text": [
      "A = [[ 5 -6  1]\n",
      " [ 5 -1  9]\n",
      " [-2  4  2]]\n",
      "\n",
      "B = [[ 5  0 -3]\n",
      " [ 3  1 -4]\n",
      " [ 5  3 -1]]\n",
      "\n",
      "C_AB = [[ 12  -3   8]\n",
      " [ 67  26 -20]\n",
      " [ 12  10 -12]]\n",
      "C_BA = [[ 31 -42  -1]\n",
      " [ 28 -35   4]\n",
      " [ 42 -37  30]]\n"
     ]
    }
   ],
   "source": [
    "A = np.array([[5,-6,1],[5,-1,9],[-2,4,2]])\n",
    "\n",
    "print('A =',A)\n",
    "print('')\n",
    "\n",
    "B = np.array([[5,0,-3],[3,1,-4],[5,3,-1]])\n",
    "\n",
    "print('B =',B)\n",
    "print('')\n",
    "\n",
    "C_AB = np.dot(A,B)\n",
    "\n",
    "print('C_AB =',C_AB)\n",
    "\n",
    "\n",
    "C_BA = np.dot(B,A)\n",
    "\n",
    "print('C_BA =',C_BA)"
   ]
  },
  {
   "cell_type": "markdown",
   "metadata": {
    "id": "nudMC1DQ0HU7"
   },
   "source": [
    "**Tambien puedo hacer A*v**"
   ]
  },
  {
   "cell_type": "code",
   "execution_count": 18,
   "metadata": {
    "colab": {
     "base_uri": "https://localhost:8080/"
    },
    "id": "ixeGp8bb0Pyj",
    "outputId": "5b79c1e3-2483-4399-a486-ce535dde909c",
    "tags": []
   },
   "outputs": [
    {
     "name": "stdout",
     "output_type": "stream",
     "text": [
      "Av =  [-4 69 24]\n"
     ]
    }
   ],
   "source": [
    "A = np.array([[5,-6,1],[5,-1,9],[-2,4,2]])\n",
    "v = np.array([4,5,6])\n",
    "\n",
    "Av = np.dot(A,v)\n",
    "\n",
    "print('Av = ', Av)"
   ]
  },
  {
   "cell_type": "markdown",
   "metadata": {
    "id": "_uEba4gAn-wW"
   },
   "source": [
    "**Si quiero transponer el vector v o la matriz A uso .T.**\n",
    "\n",
    "**Vemamos la regla de transposicion del producto,  (AB)^T = (B^T)(A^T)**\n"
   ]
  },
  {
   "cell_type": "code",
   "execution_count": 19,
   "metadata": {
    "colab": {
     "base_uri": "https://localhost:8080/"
    },
    "id": "Q4nYcE_QoM5W",
    "outputId": "e409752e-10fb-4ce5-d81c-e9f7374d549f",
    "tags": []
   },
   "outputs": [
    {
     "name": "stdout",
     "output_type": "stream",
     "text": [
      "AB =\n",
      "[[-26  31  37]\n",
      " [ 48 101  97]]\n",
      "\n",
      "(AB)^T=\n",
      "[[-26  48]\n",
      " [ 31 101]\n",
      " [ 37  97]]\n",
      "\n",
      "(B^T)(A^T)  =\n",
      "[[-26  48]\n",
      " [ 31 101]\n",
      " [ 37  97]]\n"
     ]
    }
   ],
   "source": [
    "A = np.array([[5,-6,1,4,6],[5,-1,9,6,1]])\n",
    "\n",
    "B = np.array([[-1,3,1],[5,6,2],[7,4,8],[-1,9,3],[1,2,4]])\n",
    "\n",
    "C = np.dot(A,B)\n",
    "\n",
    "print('AB =')\n",
    "print(C)\n",
    "\n",
    "print('')\n",
    "\n",
    "print('(AB)^T=')\n",
    "print(C.T)\n",
    "\n",
    "\n",
    "A_T = A.T\n",
    "\n",
    "B_T = B.T \n",
    "\n",
    "print('')\n",
    "\n",
    "print('(B^T)(A^T)  =')\n",
    "print(np.dot(B_T,A_T))"
   ]
  },
  {
   "cell_type": "markdown",
   "metadata": {
    "id": "tazZyA3ushSy"
   },
   "source": [
    "**El determinante de una matriz cuadrada A se puede calcular con np.linalg.det(A)**"
   ]
  },
  {
   "cell_type": "code",
   "execution_count": 20,
   "metadata": {
    "colab": {
     "base_uri": "https://localhost:8080/"
    },
    "id": "1hRpcdfhqddT",
    "outputId": "7b370ede-96d4-47c2-a0df-9046ce95c337",
    "tags": []
   },
   "outputs": [
    {
     "name": "stdout",
     "output_type": "stream",
     "text": [
      "El determinante de A es igual a -13.0\n"
     ]
    }
   ],
   "source": [
    "A = np.array([[2,3],[5,1]])\n",
    "\n",
    "det_A = np.linalg.det(A)\n",
    "\n",
    "print('El determinante de A es igual a',det_A)"
   ]
  },
  {
   "cell_type": "markdown",
   "metadata": {
    "id": "0DP3UfUNtKVa"
   },
   "source": [
    "**Si A no es cuadrada entonces su determinante no puede ser calculado,**"
   ]
  },
  {
   "cell_type": "code",
   "execution_count": 21,
   "metadata": {
    "id": "3TMcfEqqtTKa",
    "tags": []
   },
   "outputs": [
    {
     "ename": "LinAlgError",
     "evalue": "Last 2 dimensions of the array must be square",
     "output_type": "error",
     "traceback": [
      "\u001b[1;31m---------------------------------------------------------------------------\u001b[0m",
      "\u001b[1;31mLinAlgError\u001b[0m                               Traceback (most recent call last)",
      "Cell \u001b[1;32mIn[21], line 5\u001b[0m\n\u001b[0;32m      1\u001b[0m \u001b[38;5;66;03m# A no es cuadrada entonces python va a tirar error\u001b[39;00m\n\u001b[0;32m      3\u001b[0m A \u001b[38;5;241m=\u001b[39m np\u001b[38;5;241m.\u001b[39marray([[\u001b[38;5;241m2\u001b[39m,\u001b[38;5;241m3\u001b[39m],[\u001b[38;5;241m5\u001b[39m,\u001b[38;5;241m1\u001b[39m],[\u001b[38;5;241m4\u001b[39m,\u001b[38;5;241m3\u001b[39m]])\n\u001b[1;32m----> 5\u001b[0m det_A \u001b[38;5;241m=\u001b[39m \u001b[43mnp\u001b[49m\u001b[38;5;241;43m.\u001b[39;49m\u001b[43mlinalg\u001b[49m\u001b[38;5;241;43m.\u001b[39;49m\u001b[43mdet\u001b[49m\u001b[43m(\u001b[49m\u001b[43mA\u001b[49m\u001b[43m)\u001b[49m\n",
      "File \u001b[1;32m<__array_function__ internals>:200\u001b[0m, in \u001b[0;36mdet\u001b[1;34m(*args, **kwargs)\u001b[0m\n",
      "File \u001b[1;32m~\\Documents\\UNSAM\\mate_discreta\\venv\\Lib\\site-packages\\numpy\\linalg\\linalg.py:2136\u001b[0m, in \u001b[0;36mdet\u001b[1;34m(a)\u001b[0m\n\u001b[0;32m   2134\u001b[0m a \u001b[38;5;241m=\u001b[39m asarray(a)\n\u001b[0;32m   2135\u001b[0m _assert_stacked_2d(a)\n\u001b[1;32m-> 2136\u001b[0m \u001b[43m_assert_stacked_square\u001b[49m\u001b[43m(\u001b[49m\u001b[43ma\u001b[49m\u001b[43m)\u001b[49m\n\u001b[0;32m   2137\u001b[0m t, result_t \u001b[38;5;241m=\u001b[39m _commonType(a)\n\u001b[0;32m   2138\u001b[0m signature \u001b[38;5;241m=\u001b[39m \u001b[38;5;124m'\u001b[39m\u001b[38;5;124mD->D\u001b[39m\u001b[38;5;124m'\u001b[39m \u001b[38;5;28;01mif\u001b[39;00m isComplexType(t) \u001b[38;5;28;01melse\u001b[39;00m \u001b[38;5;124m'\u001b[39m\u001b[38;5;124md->d\u001b[39m\u001b[38;5;124m'\u001b[39m\n",
      "File \u001b[1;32m~\\Documents\\UNSAM\\mate_discreta\\venv\\Lib\\site-packages\\numpy\\linalg\\linalg.py:190\u001b[0m, in \u001b[0;36m_assert_stacked_square\u001b[1;34m(*arrays)\u001b[0m\n\u001b[0;32m    188\u001b[0m m, n \u001b[38;5;241m=\u001b[39m a\u001b[38;5;241m.\u001b[39mshape[\u001b[38;5;241m-\u001b[39m\u001b[38;5;241m2\u001b[39m:]\n\u001b[0;32m    189\u001b[0m \u001b[38;5;28;01mif\u001b[39;00m m \u001b[38;5;241m!=\u001b[39m n:\n\u001b[1;32m--> 190\u001b[0m     \u001b[38;5;28;01mraise\u001b[39;00m LinAlgError(\u001b[38;5;124m'\u001b[39m\u001b[38;5;124mLast 2 dimensions of the array must be square\u001b[39m\u001b[38;5;124m'\u001b[39m)\n",
      "\u001b[1;31mLinAlgError\u001b[0m: Last 2 dimensions of the array must be square"
     ]
    }
   ],
   "source": [
    "# A no es cuadrada entonces python va a tirar error\n",
    "\n",
    "A = np.array([[2,3],[5,1],[4,3]])\n",
    "\n",
    "det_A = np.linalg.det(A)"
   ]
  },
  {
   "cell_type": "markdown",
   "metadata": {
    "id": "qAhc-kErtluX"
   },
   "source": [
    "**Si A tiene una fila que es una combinacion lineal de otras filas, entonces el determinante de A es 0. Lo mismo pasa con las columnas.** \n",
    "\n",
    "**En algunos casos python da un numero muy pequeño para el Detminante pero no da cero, esto es un error del programa relacionado con que los numeros se almacenan como puntos flotantes.**"
   ]
  },
  {
   "cell_type": "code",
   "execution_count": 22,
   "metadata": {
    "colab": {
     "base_uri": "https://localhost:8080/"
    },
    "id": "plX2yBchtjKm",
    "outputId": "da6acc47-a7bc-429c-d35e-6776be37a14f",
    "tags": []
   },
   "outputs": [
    {
     "name": "stdout",
     "output_type": "stream",
     "text": [
      "El determinante de A es igual a -8.881784197001224e-15\n"
     ]
    }
   ],
   "source": [
    "# por ejemplo, en este caso, la tercera fila de A es primera_fila-2*segunda_fila\n",
    "\n",
    "A = np.array([[2,3,6],[4,1,1],[-6,1,4]])\n",
    "\n",
    "det_A = np.linalg.det(A)\n",
    "\n",
    "print('El determinante de A es igual a',det_A)"
   ]
  },
  {
   "cell_type": "markdown",
   "metadata": {
    "id": "mpXQpMLJweqe"
   },
   "source": [
    "**Si A tiene determinante distinto de cero, podemos calcular su inverza, np.linalg.inv(A)**\n",
    "\n",
    "**Podemos ver que si multiplicamos a A por su inverza, python nos da una matriz muy parecida a la identidad. De nuevo, las diferencias con la identidad se deben a problemas relacionados con el punto flotante.**"
   ]
  },
  {
   "cell_type": "code",
   "execution_count": 23,
   "metadata": {
    "colab": {
     "base_uri": "https://localhost:8080/"
    },
    "id": "S4yGc-NkwmVj",
    "outputId": "5100d4a8-a7bb-482a-804b-37327468d85d",
    "tags": []
   },
   "outputs": [
    {
     "name": "stdout",
     "output_type": "stream",
     "text": [
      "A =\n",
      "[[2 3]\n",
      " [5 1]]\n",
      "\n",
      "A_inv =\n",
      "[[-0.07692308  0.23076923]\n",
      " [ 0.38461538 -0.15384615]]\n",
      "\n",
      "AA_inv=\n",
      "[[ 1.00000000e+00 -5.55111512e-17]\n",
      " [-5.55111512e-17  1.00000000e+00]]\n",
      "\n",
      "A_invA =\n",
      "[[ 1.00000000e+00 -2.77555756e-17]\n",
      " [-1.11022302e-16  1.00000000e+00]]\n"
     ]
    }
   ],
   "source": [
    "A = np.array([[2,3],[5,1]])\n",
    "\n",
    "print('A =')\n",
    "print(A)\n",
    "print('')\n",
    "\n",
    "A_inv = np.linalg.inv(A)\n",
    "\n",
    "print('A_inv =')\n",
    "print(A_inv)\n",
    "print('')\n",
    "\n",
    "AA_inv = np.dot(A,A_inv)\n",
    "\n",
    "print('AA_inv=')\n",
    "print(AA_inv)\n",
    "print('')\n",
    "\n",
    "A_invA = np.dot(A_inv,A)\n",
    "\n",
    "print('A_invA =')\n",
    "print(A_invA)"
   ]
  },
  {
   "cell_type": "markdown",
   "metadata": {
    "id": "VH57Xs4k07Ee"
   },
   "source": [
    "**Una propiedad del determinante es que el det(AB) = det(A)det(B)**\n",
    "\n",
    "**AA^(-1) = 1,**\n",
    "\n",
    "**Aplicando el determinante a ambos lados de la igualdad y usando la propiedad del producto de los determinantes,**\n",
    "\n",
    "**det(A)det(A^(-1)) = det(1) = 1**,\n",
    "\n",
    "**Luego, det(A^(-1)) = [det(A)]^(-1)**\n",
    "\n",
    "**Veamos que esta propiedad se cumple.** "
   ]
  },
  {
   "cell_type": "code",
   "execution_count": 24,
   "metadata": {
    "colab": {
     "base_uri": "https://localhost:8080/"
    },
    "id": "KaVreAKQz-Hu",
    "outputId": "9eb80cca-f3e4-4139-81c4-d91e9dc5f018",
    "tags": []
   },
   "outputs": [
    {
     "name": "stdout",
     "output_type": "stream",
     "text": [
      "det_A*det_A_inv = 0.9999999999999996\n"
     ]
    }
   ],
   "source": [
    "A = np.array([[2,3],[5,1]])\n",
    "\n",
    "A_inv = np.linalg.inv(A)\n",
    "\n",
    "\n",
    "det_A = np.linalg.det(A)\n",
    "\n",
    "det_A_inv = np.linalg.det(A_inv)\n",
    "\n",
    "\n",
    "print('det_A*det_A_inv =',det_A*det_A_inv)\n"
   ]
  },
  {
   "cell_type": "markdown",
   "metadata": {
    "id": "5noUbUr3Chyp"
   },
   "source": [
    "**Algunas veces puede resultar util definir una matriz B que sea el resultado de eliminar alguna fila o alguna columna de la matriz A, esto se hace con B = np.delete(A, j, k).** \n",
    "\n",
    "**B = np.delete(A, j, k)**\n",
    "\n",
    "**El k puede ser k = 0 o k = 1.** \n",
    "\n",
    "**k = 0 implica quitar fila j**\n",
    "\n",
    "**k = 1 implica quitar columna j**\n",
    "\n",
    "**Luego,**\n",
    "\n",
    "**Si k = 0, B seria el resultado de quitarle la fila j a A.** \n",
    "\n",
    "**Si k = 1, B seria el resultado de quitarle la columna j a A.** \n",
    "\n",
    "\n",
    "\n",
    "**Veamos con dos ejemplos:**"
   ]
  },
  {
   "cell_type": "code",
   "execution_count": 26,
   "metadata": {
    "colab": {
     "base_uri": "https://localhost:8080/"
    },
    "id": "QlFdTzI93KZ0",
    "outputId": "a0791dc5-6b0c-44d0-e506-b354869537db",
    "tags": []
   },
   "outputs": [
    {
     "name": "stdout",
     "output_type": "stream",
     "text": [
      "A =\n",
      "[[ 1  2  3  4]\n",
      " [ 5  6  8  1]\n",
      " [ 9 10 12  3]\n",
      " [ 9 11 12  5]]\n",
      "[[ 1  2  4]\n",
      " [ 5  6  1]\n",
      " [ 9 10  3]\n",
      " [ 9 11  5]]\n"
     ]
    }
   ],
   "source": [
    "A = np.array([[1,2,3,4], [5,6,8,1], [9,10,12,3],[9,11,12,5]])\n",
    "\n",
    "B = np.delete(A, 2, 1) # le quito a A la fila 2\n",
    "print('A =')\n",
    "print(A)\n",
    "\n",
    "print(np.delete(A, 2, 1))"
   ]
  },
  {
   "cell_type": "markdown",
   "metadata": {
    "id": "CVTQg5xlMarq"
   },
   "source": [
    "# **Hagamos un parentesis antes de seguir con los vectores y matrices** \n",
    "\n",
    "**En python, en matematica, y en fisica, una funcion es una maquina al que le entran algunos objetos y te devuelve objetos cuyos valores o naturaleza puede depender de los valores y naturaleza de los objetos que ingresaron.**\n",
    "\n",
    "**En python se puede armar funciones con def**.\n",
    "\n",
    "**Veamos un ejemplo simple:**"
   ]
  },
  {
   "cell_type": "code",
   "execution_count": null,
   "metadata": {
    "id": "ebQLd3vEOMDi"
   },
   "outputs": [],
   "source": [
    "def combinacion_lienal(a,b,A,B):\n",
    "\n",
    "    C = a*A+b*b\n",
    "\n",
    "    return C"
   ]
  },
  {
   "cell_type": "markdown",
   "metadata": {
    "id": "HPrCnIT4lVce"
   },
   "source": [
    "**La funcion de arriba tiene como entrada 4 objetos que pueden ser escalares. En el caso en el que fueran escalares, la funcion nos va a devolver un escalar.**"
   ]
  },
  {
   "cell_type": "code",
   "execution_count": null,
   "metadata": {
    "colab": {
     "base_uri": "https://localhost:8080/"
    },
    "id": "GiNMiLLxOquN",
    "outputId": "7303e890-5e51-4f9a-ff75-203a98948514"
   },
   "outputs": [
    {
     "data": {
      "text/plain": [
       "23"
      ]
     },
     "execution_count": 164,
     "metadata": {},
     "output_type": "execute_result"
    }
   ],
   "source": [
    "combinacion_lienal(2,3,7,5)"
   ]
  },
  {
   "cell_type": "markdown",
   "metadata": {
    "id": "u4lCOGdgmG6y"
   },
   "source": [
    "**Pero tambien podemos hacer que algunos objetos de entrada sean matrices**"
   ]
  },
  {
   "cell_type": "code",
   "execution_count": null,
   "metadata": {
    "colab": {
     "base_uri": "https://localhost:8080/"
    },
    "id": "scmPxiltmEDF",
    "outputId": "d1d92e90-a94b-4d85-8d37-0fafd1157d79"
   },
   "outputs": [
    {
     "data": {
      "text/plain": [
       "array([[17, 19],\n",
       "       [11, 21]])"
      ]
     },
     "execution_count": 165,
     "metadata": {},
     "output_type": "execute_result"
    }
   ],
   "source": [
    "A = np.array([[4,5],[1,6]])\n",
    "\n",
    "B = np.array([[2,1],[7,3]])\n",
    "\n",
    "combinacion_lienal(2,3,A,B)"
   ]
  },
  {
   "cell_type": "markdown",
   "metadata": {
    "id": "KFwgjU8BmmAc"
   },
   "source": [
    "**Podemos hacer una funcion tan complicada como queramos que utilice los productos internos entre los objetos de entrada, los determinantes de los objetos de entrada, los cosenos de estos objetos, etc**"
   ]
  },
  {
   "cell_type": "markdown",
   "metadata": {
    "id": "j-i3I5vbnrRI"
   },
   "source": [
    "**Tambien podemos definir una funcion recurrente. Las funciones recurrentes son aquellas que utilizan a la misma funcion dentro de la funcion**.\n",
    "\n",
    "**Por ejemplo, se puede armar una funcion recurrente para calcular el factocial de un natural N.**"
   ]
  },
  {
   "cell_type": "code",
   "execution_count": null,
   "metadata": {
    "colab": {
     "base_uri": "https://localhost:8080/"
    },
    "id": "-WpJgvYfxyGk",
    "outputId": "af23ba26-294c-47ff-9d11-815afcc7016f"
   },
   "outputs": [
    {
     "name": "stdout",
     "output_type": "stream",
     "text": [
      "El factorial de 5 es 120\n"
     ]
    }
   ],
   "source": [
    "def fac(N):\n",
    "\n",
    "   if N == 0:\n",
    "\n",
    "      return 1\n",
    "\n",
    "   else:\n",
    "       \n",
    "      return N*fac(N-1)  #observar que aca se vuelve a usar la misma funcion\n",
    "\n",
    "\n",
    "\n",
    "fac_5 = fac(5)\n",
    "\n",
    "print('El factorial de 5 es',fac_5)"
   ]
  },
  {
   "cell_type": "code",
   "execution_count": null,
   "metadata": {
    "colab": {
     "base_uri": "https://localhost:8080/"
    },
    "id": "p67Sb9zzqs9w",
    "outputId": "6a8a8517-78d9-40f2-c5c4-4b8c66782af9"
   },
   "outputs": [
    {
     "name": "stdout",
     "output_type": "stream",
     "text": [
      "Si quiero hacer todos los ordenamientos posibles de 20 libros tardando un segundo para ir de un ordenamiento al otro, entonces voy a tardar 5.510486899726027 veces la edad del unverso\n"
     ]
    }
   ],
   "source": [
    "fac_20 = fac(20)\n",
    "\n",
    "Edad_del_universo_en_segundos = (14*(10**9))*(365)*(24)*(60)*(60)   \n",
    "\n",
    "# El universo tiene 14 mil millones de años, cada año 365 dias, cada dia 24 hs,...\n",
    "\n",
    "print('Si quiero hacer todos los ordenamientos posibles de 20 libros tardando un segundo para ir de un ordenamiento al otro, entonces voy a tardar'\n",
    "\n",
    ",fac_20/Edad_del_universo_en_segundos,'veces la edad del unverso')"
   ]
  },
  {
   "cell_type": "markdown",
   "metadata": {
    "id": "9t38W1whqfp5"
   },
   "source": [
    "# **Cerremos el parentesis y volvamos a los vectores y matrices** "
   ]
  },
  {
   "cell_type": "markdown",
   "metadata": {
    "id": "5yeuzet0q4T5"
   },
   "source": [
    "**En la pagina 33 de la guia teorica, se muestra el metodo para calcular determinantes a partir de los cofactores. Los cofactores son los determinantes de las matrices que se obtienen al eliminar la fila y la columna correspondiente al elemto en el que estamos parados.**\n",
    "\n",
    "**Podemos utilizar una funcion recurrente para calcular el determinante de una matriz A. La matriz A es el objeto de entrada, en el interior de la funcion calculadora de determinantes que armemos se va a necesitar calcular un cofactor, es decir, el determinante de una matriz. Es en ese punto donde vamos a llamar otra vez a nuestra funcion calculadora de determinantes.** "
   ]
  },
  {
   "cell_type": "code",
   "execution_count": null,
   "metadata": {
    "id": "vWT4JbLtzaOP"
   },
   "outputs": [],
   "source": [
    "def det(A):\n",
    "\n",
    "    if A.shape[0]==1:\n",
    "\n",
    "      return A[0,0]  \n",
    "      # si A es una matriz formada por un unico elemento, entonces el determinante de A es el valor de ese elemento. \n",
    "\n",
    "    else:\n",
    "\n",
    "         Det = 0   \n",
    "\n",
    "         # voy a calcular el determinante de A usando los cofactores de la primera fila (llamada fila 0).\n",
    "\n",
    "         A_sin_fila_0 = np.delete(A, 0, 0) \n",
    "\n",
    "         for j in list(range(A.shape[0])):\n",
    "\n",
    "            A_sin_fila_0_y_sin_colum_j = np.delete(A_sin_fila_0, j, 1)\n",
    "\n",
    "            # a medida que voy recorriendo los elementos de la fila cero tengo que ir eliminando la columna j en la que estoy parado.\n",
    "\n",
    "            Det = Det + A[0,j]*pow(-1,j)*det(A_sin_fila_0_y_sin_colum_j)\n",
    "\n",
    "            # aqui llamos otra vez a la funcion para que me calcule el determinante \n",
    "            # de la matriz que so obtiene al eliminar la primera fila y la columna j. \n",
    "    \n",
    "         return Det   "
   ]
  },
  {
   "cell_type": "markdown",
   "metadata": {
    "id": "eGWXxFOkunQ5"
   },
   "source": [
    "**Veamos con un ejemplo que tan bien funciona nuestra funcion calculadora de determinantes:**"
   ]
  },
  {
   "cell_type": "code",
   "execution_count": null,
   "metadata": {
    "colab": {
     "base_uri": "https://localhost:8080/"
    },
    "id": "GSgdpkc7Ak6D",
    "outputId": "0a1080e6-b9eb-4095-fafa-66679bae0166"
   },
   "outputs": [
    {
     "name": "stdout",
     "output_type": "stream",
     "text": [
      "El determinate calculado por numpy es -5383.999999999997\n",
      "El determinate calculado por nuestra funcion es -5384\n"
     ]
    }
   ],
   "source": [
    "A = np.array([[2,3,-5,-25],[5,-1,2,11],[-12,0,-2,8],[6,-7,-5,1]])\n",
    "\n",
    "det_A = np.linalg.det(A)\n",
    "\n",
    "det_A_nuestra_funcion = det(A)\n",
    "\n",
    "print('El determinate calculado por numpy es',det_A)\n",
    "\n",
    "print('El determinate calculado por nuestra funcion es',det_A_nuestra_funcion)\n"
   ]
  },
  {
   "cell_type": "code",
   "execution_count": null,
   "metadata": {
    "id": "rZquFr47n3wY"
   },
   "outputs": [],
   "source": [
    "def operaciones(N):\n",
    "\n",
    "    if N == 2:\n",
    "\n",
    "       return 3\n",
    "\n",
    "    else:\n",
    "\n",
    "       return N*operaciones(N-1) + N + (N-1) "
   ]
  },
  {
   "cell_type": "code",
   "execution_count": null,
   "metadata": {
    "colab": {
     "base_uri": "https://localhost:8080/"
    },
    "id": "1A6cXWUqQm7O",
    "outputId": "b9c12c38-0b03-49b7-e35b-710c7649b04d"
   },
   "outputs": [
    {
     "name": "stdout",
     "output_type": "stream",
     "text": [
      "cantidad de operaciones para 20x20 = 6613313319248079999\n"
     ]
    }
   ],
   "source": [
    "print('cantidad de operaciones para 20x20 =',operaciones(20)) "
   ]
  },
  {
   "cell_type": "code",
   "execution_count": null,
   "metadata": {
    "colab": {
     "base_uri": "https://localhost:8080/"
    },
    "id": "zs4gnPlAQ1Od",
    "outputId": "651c150d-892e-456e-b4ce-15f2c6928f43"
   },
   "outputs": [
    {
     "name": "stdout",
     "output_type": "stream",
     "text": [
      "cantidad de operaciones para 9x9 = 986408\n"
     ]
    }
   ],
   "source": [
    "print('cantidad de operaciones para 9x9 =',operaciones(9)) "
   ]
  },
  {
   "cell_type": "code",
   "execution_count": null,
   "metadata": {
    "colab": {
     "base_uri": "https://localhost:8080/"
    },
    "id": "73e8BIsfG0MM",
    "outputId": "18541fa2-4e34-4a81-d6a0-ed7542bd3f80"
   },
   "outputs": [
    {
     "name": "stdout",
     "output_type": "stream",
     "text": [
      "14.2 ns ± 1.53 ns per loop (mean ± std. dev. of 7 runs, 10000000 loops each)\n",
      "15.6 ns ± 2.97 ns per loop (mean ± std. dev. of 7 runs, 100000000 loops each)\n"
     ]
    }
   ],
   "source": [
    "import timeit \n",
    "\n",
    "%timeit 50 + 561\n",
    "\n",
    "%timeit 50 * 561"
   ]
  },
  {
   "cell_type": "code",
   "execution_count": null,
   "metadata": {
    "colab": {
     "base_uri": "https://localhost:8080/"
    },
    "id": "zbJJas5ZRRHJ",
    "outputId": "1c1a6624-d605-4028-e512-06089426a7b1"
   },
   "outputs": [
    {
     "name": "stdout",
     "output_type": "stream",
     "text": [
      "Tiempo que tardaria la computadora en calcular el determinante = 0.014796120000000001 s\n"
     ]
    }
   ],
   "source": [
    "print('Tiempo que tardaria la computadora en calcular el determinante =',operaciones(9)*(15)*(10**-9), 's')"
   ]
  },
  {
   "cell_type": "code",
   "execution_count": null,
   "metadata": {
    "id": "JLN6Pr8OHahg"
   },
   "outputs": [],
   "source": [
    "A = np.ones((9,9))\n",
    "\n",
    "for j in range(9):\n",
    "\n",
    "    for k in range(9):\n",
    "\n",
    "        A[j,k] = 2*np.random.rand(1)[0]-1"
   ]
  },
  {
   "cell_type": "code",
   "execution_count": null,
   "metadata": {
    "colab": {
     "base_uri": "https://localhost:8080/"
    },
    "id": "LwIwshlVMV2h",
    "outputId": "d79aceec-db1c-4830-abbd-80097eeeeff9"
   },
   "outputs": [
    {
     "name": "stdout",
     "output_type": "stream",
     "text": [
      "6.15 s ± 793 ms per loop (mean ± std. dev. of 7 runs, 1 loop each)\n"
     ]
    }
   ],
   "source": [
    "%timeit det(A)"
   ]
  },
  {
   "cell_type": "code",
   "execution_count": null,
   "metadata": {
    "colab": {
     "base_uri": "https://localhost:8080/"
    },
    "id": "BQMmDrS0H0k6",
    "outputId": "4a0adac1-e0d8-4e8f-aa06-be1325af9855"
   },
   "outputs": [
    {
     "name": "stdout",
     "output_type": "stream",
     "text": [
      "5.8 µs ± 115 ns per loop (mean ± std. dev. of 7 runs, 100000 loops each)\n"
     ]
    }
   ],
   "source": [
    "%timeit np.linalg.det(A)"
   ]
  }
 ],
 "metadata": {
  "colab": {
   "provenance": []
  },
  "kernelspec": {
   "display_name": "Python 3 (ipykernel)",
   "language": "python",
   "name": "python3"
  },
  "language_info": {
   "codemirror_mode": {
    "name": "ipython",
    "version": 3
   },
   "file_extension": ".py",
   "mimetype": "text/x-python",
   "name": "python",
   "nbconvert_exporter": "python",
   "pygments_lexer": "ipython3",
   "version": "3.11.2"
  }
 },
 "nbformat": 4,
 "nbformat_minor": 4
}
